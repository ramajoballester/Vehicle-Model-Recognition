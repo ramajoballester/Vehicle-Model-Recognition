{
 "cells": [
  {
   "cell_type": "code",
   "execution_count": 33,
   "id": "earlier-coordination",
   "metadata": {},
   "outputs": [],
   "source": [
    "import argparse\n",
    "import git\n",
    "import os\n",
    "import numpy as np\n",
    "import tensorflow as tf\n",
    "from tensorflow.keras.preprocessing.image import ImageDataGenerator\n",
    "from utils import *\n",
    "from tensorflow.keras.layers import Input, Dense, Flatten, Concatenate, Subtract\n",
    "import datetime\n",
    "from sklearn.svm import SVC\n",
    "from sklearn.metrics import accuracy_score\n",
    "\n",
    "# os.environ['TF_CPP_MIN_LOG_LEVEL'] = '1'\n",
    "\n",
    "n_classes = 196\n",
    "n_elements = 300\n",
    "\n",
    "\n",
    "\n",
    "gpus = tf.config.experimental.list_physical_devices('GPU')\n",
    "try:\n",
    "    for gpu in gpus:\n",
    "        tf.config.experimental.set_memory_growth(gpu, True)\n",
    "except RuntimeError as e:\n",
    "    print(e)\n",
    "\n",
    "\n",
    "ROOT_DIR = get_git_root(os.getcwd())\n",
    "\n",
    "\n",
    "car_names = os.listdir(os.path.join(ROOT_DIR, 'dataset'))\n",
    "labels = random.sample(car_names, k = n_classes)\n",
    "\n",
    "(trainX, trainY), (testX, testY), (trainX_bbox, testX_bbox) = load_dataset(ROOT_DIR, labels, n_elements, img_resolution=(224,224),\n",
    "                                                                                 crop=True, greyscale=False, random_sample = False)\n",
    "trainX = np.asarray(trainX)\n",
    "trainY = np.asarray(trainY)\n",
    "testX = np.asarray(testX)\n",
    "testY = np.asarray(testY)\n",
    "\n",
    "trainX = np.expand_dims(trainX, axis=-1)\n",
    "testX = np.expand_dims(testX, axis=-1)\n",
    "norm_trainY = normalize_labels(trainY)\n",
    "norm_testY = normalize_labels(testY)\n",
    "\n",
    "input_shape = trainX.shape[1:4]\n",
    "\n",
    "\n",
    "(trainX, trainY) = make_pairs(trainX, norm_trainY)\n",
    "(testX, testY) = make_pairs(testX, norm_testY)\n",
    "trainX = [trainX[:, 0], trainX[:, 1]]\n",
    "testX = [testX[:, 0], testX[:, 1]]\n",
    "\n",
    "\n",
    "\n",
    "model = tf.keras.applications.VGG16(include_top=False, weights='imagenet',\n",
    "                            input_shape=input_shape, pooling='max')\n",
    "for each_layer in model.layers:\n",
    "    each_layer.trainable = False\n",
    "\n",
    "\n",
    "inputA = Input(shape=input_shape)\n",
    "inputB = Input(shape=input_shape)\n",
    "featsA = model(inputA)\n",
    "featsB = model(inputB)\n",
    "# distance = Lambda(utils.euclidean_distance)([featsA, featsB])\n",
    "# feats = Concatenate()([featsA, featsB])\n",
    "feats = Subtract()([featsA, featsB])\n",
    "# feats = Dense(4096, activation='relu', name='Dense_1')(feats)\n",
    "# output = Dense(4096, activation='relu', name='Dense_2')(feats)\n",
    "# output = Dense(1, activation=\"sigmoid\")(output)\n",
    "model = tf.keras.models.Model([inputA, inputB], feats)"
   ]
  },
  {
   "cell_type": "code",
   "execution_count": 34,
   "id": "innovative-pierre",
   "metadata": {},
   "outputs": [],
   "source": [
    "trainX_emb = model.predict(trainX)\n",
    "testX_emb = model.predict(testX)\n",
    "trainY = np.squeeze(trainY, 1)\n",
    "testY = np.squeeze(testY, 1)"
   ]
  },
  {
   "cell_type": "code",
   "execution_count": 35,
   "id": "arctic-interim",
   "metadata": {},
   "outputs": [],
   "source": [
    "model.compile()\n",
    "svm_model = SVC(kernel='rbf', verbose=True)"
   ]
  },
  {
   "cell_type": "code",
   "execution_count": 36,
   "id": "measured-repeat",
   "metadata": {},
   "outputs": [
    {
     "name": "stdout",
     "output_type": "stream",
     "text": [
      "[LibSVM]"
     ]
    },
    {
     "data": {
      "text/plain": [
       "SVC(verbose=True)"
      ]
     },
     "execution_count": 36,
     "metadata": {},
     "output_type": "execute_result"
    }
   ],
   "source": [
    "svm_model.fit(trainX_emb, trainY)"
   ]
  },
  {
   "cell_type": "code",
   "execution_count": 37,
   "id": "developed-antique",
   "metadata": {},
   "outputs": [
    {
     "name": "stdout",
     "output_type": "stream",
     "text": [
      "0.9116169932488062\n",
      "0.7354543203763307\n"
     ]
    }
   ],
   "source": [
    "trainY_preds = svm_model.predict(trainX_emb)\n",
    "testY_preds = svm_model.predict(testX_emb)\n",
    "print(accuracy_score(trainY_preds, trainY))\n",
    "print(accuracy_score(testY_preds, testY))"
   ]
  },
  {
   "cell_type": "code",
   "execution_count": 38,
   "id": "covered-chase",
   "metadata": {},
   "outputs": [],
   "source": [
    "import pickle\n",
    "with open('svm_rbf.pickle', 'wb') as file:\n",
    "    pickle.dump(svm_model, file)"
   ]
  },
  {
   "cell_type": "code",
   "execution_count": 39,
   "id": "painted-substitute",
   "metadata": {},
   "outputs": [
    {
     "name": "stdout",
     "output_type": "stream",
     "text": [
      "/home/alvaro/Vehicle-Model-Recognition/dataset\n"
     ]
    }
   ],
   "source": [
    "!pwd"
   ]
  },
  {
   "cell_type": "code",
   "execution_count": null,
   "id": "increasing-scheme",
   "metadata": {},
   "outputs": [],
   "source": []
  }
 ],
 "metadata": {
  "kernelspec": {
   "display_name": "Python 3",
   "language": "python",
   "name": "python3"
  },
  "language_info": {
   "codemirror_mode": {
    "name": "ipython",
    "version": 3
   },
   "file_extension": ".py",
   "mimetype": "text/x-python",
   "name": "python",
   "nbconvert_exporter": "python",
   "pygments_lexer": "ipython3",
   "version": "3.8.8"
  }
 },
 "nbformat": 4,
 "nbformat_minor": 5
}
